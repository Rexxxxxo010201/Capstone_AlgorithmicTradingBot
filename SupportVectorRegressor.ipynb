{
  "nbformat": 4,
  "nbformat_minor": 0,
  "metadata": {
    "kernelspec": {
      "display_name": "Python 3",
      "language": "python",
      "name": "python3"
    },
    "language_info": {
      "codemirror_mode": {
        "name": "ipython",
        "version": 3
      },
      "file_extension": ".py",
      "mimetype": "text/x-python",
      "name": "python",
      "nbconvert_exporter": "python",
      "pygments_lexer": "ipython3",
      "version": "3.6.7"
    },
    "colab": {
      "name": "Devansh_SupportVectorRegressor.ipynb",
      "provenance": []
    }
  },
  "cells": [
    {
      "cell_type": "code",
      "metadata": {
        "id": "ZTFGyeW8h_LD"
      },
      "source": [
        "import pandas as pd"
      ],
      "execution_count": 1,
      "outputs": []
    },
    {
      "cell_type": "code",
      "metadata": {
        "id": "wOegPfcgh_LE"
      },
      "source": [
        "df = pd.read_csv(\"/content/performance.csv\")"
      ],
      "execution_count": 2,
      "outputs": []
    },
    {
      "cell_type": "code",
      "metadata": {
        "id": "B2fWcZtZh_LE",
        "colab": {
          "base_uri": "https://localhost:8080/",
          "height": 434
        },
        "outputId": "ffed0595-8a9b-4968-94bb-ea0d6355e1c7"
      },
      "source": [
        "df.head()"
      ],
      "execution_count": 3,
      "outputs": [
        {
          "output_type": "execute_result",
          "data": {
            "text/html": [
              "<div>\n",
              "<style scoped>\n",
              "    .dataframe tbody tr th:only-of-type {\n",
              "        vertical-align: middle;\n",
              "    }\n",
              "\n",
              "    .dataframe tbody tr th {\n",
              "        vertical-align: top;\n",
              "    }\n",
              "\n",
              "    .dataframe thead th {\n",
              "        text-align: right;\n",
              "    }\n",
              "</style>\n",
              "<table border=\"1\" class=\"dataframe\">\n",
              "  <thead>\n",
              "    <tr style=\"text-align: right;\">\n",
              "      <th></th>\n",
              "      <th>Unnamed: 0</th>\n",
              "      <th>ASSETME</th>\n",
              "      <th>CORR</th>\n",
              "      <th>algo_volatility</th>\n",
              "      <th>algorithm_period_return</th>\n",
              "      <th>alpha</th>\n",
              "      <th>benchmark_period_return</th>\n",
              "      <th>benchmark_volatility</th>\n",
              "      <th>beta</th>\n",
              "      <th>capital_used</th>\n",
              "      <th>ending_cash</th>\n",
              "      <th>ending_exposure</th>\n",
              "      <th>ending_value</th>\n",
              "      <th>excess_return</th>\n",
              "      <th>gross_leverage</th>\n",
              "      <th>long_exposure</th>\n",
              "      <th>long_value</th>\n",
              "      <th>longs_count</th>\n",
              "      <th>max_drawdown</th>\n",
              "      <th>max_leverage</th>\n",
              "      <th>net_leverage</th>\n",
              "      <th>orders</th>\n",
              "      <th>period_close</th>\n",
              "      <th>period_label</th>\n",
              "      <th>period_open</th>\n",
              "      <th>pnl</th>\n",
              "      <th>portfolio_value</th>\n",
              "      <th>positions</th>\n",
              "      <th>returns</th>\n",
              "      <th>sharpe</th>\n",
              "      <th>short_exposure</th>\n",
              "      <th>short_value</th>\n",
              "      <th>shorts_count</th>\n",
              "      <th>sortino</th>\n",
              "      <th>starting_cash</th>\n",
              "      <th>starting_exposure</th>\n",
              "      <th>starting_value</th>\n",
              "      <th>trading_days</th>\n",
              "      <th>transactions</th>\n",
              "      <th>treasury_period_return</th>\n",
              "    </tr>\n",
              "  </thead>\n",
              "  <tbody>\n",
              "    <tr>\n",
              "      <th>0</th>\n",
              "      <td>2017-01-03 21:00:00+00:00</td>\n",
              "      <td>216.99</td>\n",
              "      <td>-0.371008</td>\n",
              "      <td>NaN</td>\n",
              "      <td>0.000000</td>\n",
              "      <td>NaN</td>\n",
              "      <td>0.007650</td>\n",
              "      <td>NaN</td>\n",
              "      <td>NaN</td>\n",
              "      <td>0.00</td>\n",
              "      <td>10000000.00</td>\n",
              "      <td>0.0</td>\n",
              "      <td>0.0</td>\n",
              "      <td>0.0</td>\n",
              "      <td>0.000000</td>\n",
              "      <td>0.0</td>\n",
              "      <td>0.0</td>\n",
              "      <td>0</td>\n",
              "      <td>0.000000</td>\n",
              "      <td>0.000000</td>\n",
              "      <td>0.000000</td>\n",
              "      <td>[]</td>\n",
              "      <td>2017-01-03 21:00:00+00:00</td>\n",
              "      <td>2017-01</td>\n",
              "      <td>2017-01-03 14:31:00+00:00</td>\n",
              "      <td>0.00</td>\n",
              "      <td>10000000.00</td>\n",
              "      <td>[]</td>\n",
              "      <td>0.000000</td>\n",
              "      <td>NaN</td>\n",
              "      <td>0.0</td>\n",
              "      <td>0.0</td>\n",
              "      <td>0</td>\n",
              "      <td>NaN</td>\n",
              "      <td>10000000.00</td>\n",
              "      <td>0.0</td>\n",
              "      <td>0.0</td>\n",
              "      <td>1</td>\n",
              "      <td>[]</td>\n",
              "      <td>0.0</td>\n",
              "    </tr>\n",
              "    <tr>\n",
              "      <th>1</th>\n",
              "      <td>2017-01-04 21:00:00+00:00</td>\n",
              "      <td>226.99</td>\n",
              "      <td>0.859145</td>\n",
              "      <td>0.000000</td>\n",
              "      <td>0.000000</td>\n",
              "      <td>0.000000</td>\n",
              "      <td>0.013645</td>\n",
              "      <td>0.019097</td>\n",
              "      <td>0.000000</td>\n",
              "      <td>0.00</td>\n",
              "      <td>10000000.00</td>\n",
              "      <td>0.0</td>\n",
              "      <td>0.0</td>\n",
              "      <td>0.0</td>\n",
              "      <td>0.000000</td>\n",
              "      <td>0.0</td>\n",
              "      <td>0.0</td>\n",
              "      <td>0</td>\n",
              "      <td>0.000000</td>\n",
              "      <td>0.000000</td>\n",
              "      <td>0.000000</td>\n",
              "      <td>[]</td>\n",
              "      <td>2017-01-04 21:00:00+00:00</td>\n",
              "      <td>2017-01</td>\n",
              "      <td>2017-01-04 14:31:00+00:00</td>\n",
              "      <td>0.00</td>\n",
              "      <td>10000000.00</td>\n",
              "      <td>[]</td>\n",
              "      <td>0.000000</td>\n",
              "      <td>NaN</td>\n",
              "      <td>0.0</td>\n",
              "      <td>0.0</td>\n",
              "      <td>0</td>\n",
              "      <td>NaN</td>\n",
              "      <td>10000000.00</td>\n",
              "      <td>0.0</td>\n",
              "      <td>0.0</td>\n",
              "      <td>2</td>\n",
              "      <td>[]</td>\n",
              "      <td>0.0</td>\n",
              "    </tr>\n",
              "    <tr>\n",
              "      <th>2</th>\n",
              "      <td>2017-01-05 21:00:00+00:00</td>\n",
              "      <td>226.75</td>\n",
              "      <td>0.676593</td>\n",
              "      <td>0.000000</td>\n",
              "      <td>0.000000</td>\n",
              "      <td>0.000000</td>\n",
              "      <td>0.012840</td>\n",
              "      <td>0.070899</td>\n",
              "      <td>0.000000</td>\n",
              "      <td>0.00</td>\n",
              "      <td>10000000.00</td>\n",
              "      <td>0.0</td>\n",
              "      <td>0.0</td>\n",
              "      <td>0.0</td>\n",
              "      <td>0.000000</td>\n",
              "      <td>0.0</td>\n",
              "      <td>0.0</td>\n",
              "      <td>0</td>\n",
              "      <td>0.000000</td>\n",
              "      <td>0.000000</td>\n",
              "      <td>0.000000</td>\n",
              "      <td>[{'id': '7455df22120e4e638269c3b9996d9821', 'd...</td>\n",
              "      <td>2017-01-05 21:00:00+00:00</td>\n",
              "      <td>2017-01</td>\n",
              "      <td>2017-01-05 14:31:00+00:00</td>\n",
              "      <td>0.00</td>\n",
              "      <td>10000000.00</td>\n",
              "      <td>[]</td>\n",
              "      <td>0.000000</td>\n",
              "      <td>NaN</td>\n",
              "      <td>0.0</td>\n",
              "      <td>0.0</td>\n",
              "      <td>0</td>\n",
              "      <td>NaN</td>\n",
              "      <td>10000000.00</td>\n",
              "      <td>0.0</td>\n",
              "      <td>0.0</td>\n",
              "      <td>3</td>\n",
              "      <td>[]</td>\n",
              "      <td>0.0</td>\n",
              "    </tr>\n",
              "    <tr>\n",
              "      <th>3</th>\n",
              "      <td>2017-01-06 21:00:00+00:00</td>\n",
              "      <td>229.01</td>\n",
              "      <td>0.394703</td>\n",
              "      <td>0.000026</td>\n",
              "      <td>-0.000003</td>\n",
              "      <td>-0.000247</td>\n",
              "      <td>0.016463</td>\n",
              "      <td>0.058148</td>\n",
              "      <td>0.000042</td>\n",
              "      <td>-62872.42</td>\n",
              "      <td>9937127.58</td>\n",
              "      <td>62840.0</td>\n",
              "      <td>62840.0</td>\n",
              "      <td>0.0</td>\n",
              "      <td>0.006284</td>\n",
              "      <td>62840.0</td>\n",
              "      <td>62840.0</td>\n",
              "      <td>1</td>\n",
              "      <td>-0.000003</td>\n",
              "      <td>0.006284</td>\n",
              "      <td>0.006284</td>\n",
              "      <td>[{'id': '7455df22120e4e638269c3b9996d9821', 'd...</td>\n",
              "      <td>2017-01-06 21:00:00+00:00</td>\n",
              "      <td>2017-01</td>\n",
              "      <td>2017-01-06 14:31:00+00:00</td>\n",
              "      <td>-32.42</td>\n",
              "      <td>9999967.58</td>\n",
              "      <td>[{'sid': Equity(1894 [MSFT]), 'amount': 1000, ...</td>\n",
              "      <td>-0.000003</td>\n",
              "      <td>-7.937254</td>\n",
              "      <td>0.0</td>\n",
              "      <td>0.0</td>\n",
              "      <td>0</td>\n",
              "      <td>-7.937254</td>\n",
              "      <td>10000000.00</td>\n",
              "      <td>0.0</td>\n",
              "      <td>0.0</td>\n",
              "      <td>4</td>\n",
              "      <td>[{'amount': 1000, 'dt': Timestamp('2017-01-06 ...</td>\n",
              "      <td>0.0</td>\n",
              "    </tr>\n",
              "    <tr>\n",
              "      <th>4</th>\n",
              "      <td>2017-01-09 21:00:00+00:00</td>\n",
              "      <td>231.28</td>\n",
              "      <td>0.814375</td>\n",
              "      <td>0.000138</td>\n",
              "      <td>-0.000023</td>\n",
              "      <td>-0.002076</td>\n",
              "      <td>0.013108</td>\n",
              "      <td>0.072753</td>\n",
              "      <td>0.001371</td>\n",
              "      <td>0.00</td>\n",
              "      <td>9937127.58</td>\n",
              "      <td>62640.0</td>\n",
              "      <td>62640.0</td>\n",
              "      <td>0.0</td>\n",
              "      <td>0.006264</td>\n",
              "      <td>62640.0</td>\n",
              "      <td>62640.0</td>\n",
              "      <td>1</td>\n",
              "      <td>-0.000023</td>\n",
              "      <td>0.006284</td>\n",
              "      <td>0.006264</td>\n",
              "      <td>[]</td>\n",
              "      <td>2017-01-09 21:00:00+00:00</td>\n",
              "      <td>2017-01</td>\n",
              "      <td>2017-01-09 14:31:00+00:00</td>\n",
              "      <td>-200.00</td>\n",
              "      <td>9999767.58</td>\n",
              "      <td>[{'sid': Equity(1894 [MSFT]), 'amount': 1000, ...</td>\n",
              "      <td>-0.000020</td>\n",
              "      <td>-8.485758</td>\n",
              "      <td>0.0</td>\n",
              "      <td>0.0</td>\n",
              "      <td>0</td>\n",
              "      <td>-8.143788</td>\n",
              "      <td>9937127.58</td>\n",
              "      <td>62840.0</td>\n",
              "      <td>62840.0</td>\n",
              "      <td>5</td>\n",
              "      <td>[]</td>\n",
              "      <td>0.0</td>\n",
              "    </tr>\n",
              "  </tbody>\n",
              "</table>\n",
              "</div>"
            ],
            "text/plain": [
              "                  Unnamed: 0  ...  treasury_period_return\n",
              "0  2017-01-03 21:00:00+00:00  ...                     0.0\n",
              "1  2017-01-04 21:00:00+00:00  ...                     0.0\n",
              "2  2017-01-05 21:00:00+00:00  ...                     0.0\n",
              "3  2017-01-06 21:00:00+00:00  ...                     0.0\n",
              "4  2017-01-09 21:00:00+00:00  ...                     0.0\n",
              "\n",
              "[5 rows x 40 columns]"
            ]
          },
          "metadata": {},
          "execution_count": 3
        }
      ]
    },
    {
      "cell_type": "code",
      "metadata": {
        "id": "6IQlwYqbh_LF"
      },
      "source": [
        "df = df[['benchmark_period_return']]"
      ],
      "execution_count": 4,
      "outputs": []
    },
    {
      "cell_type": "code",
      "metadata": {
        "id": "AXMKFuzoh_LF",
        "colab": {
          "base_uri": "https://localhost:8080/",
          "height": 206
        },
        "outputId": "a895c0e9-2302-48e5-c178-621f5610999e"
      },
      "source": [
        "df.head()"
      ],
      "execution_count": 5,
      "outputs": [
        {
          "output_type": "execute_result",
          "data": {
            "text/html": [
              "<div>\n",
              "<style scoped>\n",
              "    .dataframe tbody tr th:only-of-type {\n",
              "        vertical-align: middle;\n",
              "    }\n",
              "\n",
              "    .dataframe tbody tr th {\n",
              "        vertical-align: top;\n",
              "    }\n",
              "\n",
              "    .dataframe thead th {\n",
              "        text-align: right;\n",
              "    }\n",
              "</style>\n",
              "<table border=\"1\" class=\"dataframe\">\n",
              "  <thead>\n",
              "    <tr style=\"text-align: right;\">\n",
              "      <th></th>\n",
              "      <th>benchmark_period_return</th>\n",
              "    </tr>\n",
              "  </thead>\n",
              "  <tbody>\n",
              "    <tr>\n",
              "      <th>0</th>\n",
              "      <td>0.007650</td>\n",
              "    </tr>\n",
              "    <tr>\n",
              "      <th>1</th>\n",
              "      <td>0.013645</td>\n",
              "    </tr>\n",
              "    <tr>\n",
              "      <th>2</th>\n",
              "      <td>0.012840</td>\n",
              "    </tr>\n",
              "    <tr>\n",
              "      <th>3</th>\n",
              "      <td>0.016463</td>\n",
              "    </tr>\n",
              "    <tr>\n",
              "      <th>4</th>\n",
              "      <td>0.013108</td>\n",
              "    </tr>\n",
              "  </tbody>\n",
              "</table>\n",
              "</div>"
            ],
            "text/plain": [
              "   benchmark_period_return\n",
              "0                 0.007650\n",
              "1                 0.013645\n",
              "2                 0.012840\n",
              "3                 0.016463\n",
              "4                 0.013108"
            ]
          },
          "metadata": {},
          "execution_count": 5
        }
      ]
    },
    {
      "cell_type": "code",
      "metadata": {
        "id": "lj3icpPSh_LF"
      },
      "source": [
        "df['lag_0'] = df.benchmark_period_return\n",
        "df = df.drop(columns=['benchmark_period_return'])"
      ],
      "execution_count": 6,
      "outputs": []
    },
    {
      "cell_type": "code",
      "metadata": {
        "id": "mqtSIil8h_LG"
      },
      "source": [
        "for i in range(1, 20):\n",
        "    col = \"lag_{}\".format(i)\n",
        "    df[col] = df.lag_0.shift(-1 * i).values"
      ],
      "execution_count": 7,
      "outputs": []
    },
    {
      "cell_type": "code",
      "metadata": {
        "id": "3mOuIPEFh_LG",
        "colab": {
          "base_uri": "https://localhost:8080/",
          "height": 226
        },
        "outputId": "5c744242-8225-4697-f009-f6383aab5784"
      },
      "source": [
        "df.head()"
      ],
      "execution_count": 8,
      "outputs": [
        {
          "output_type": "execute_result",
          "data": {
            "text/html": [
              "<div>\n",
              "<style scoped>\n",
              "    .dataframe tbody tr th:only-of-type {\n",
              "        vertical-align: middle;\n",
              "    }\n",
              "\n",
              "    .dataframe tbody tr th {\n",
              "        vertical-align: top;\n",
              "    }\n",
              "\n",
              "    .dataframe thead th {\n",
              "        text-align: right;\n",
              "    }\n",
              "</style>\n",
              "<table border=\"1\" class=\"dataframe\">\n",
              "  <thead>\n",
              "    <tr style=\"text-align: right;\">\n",
              "      <th></th>\n",
              "      <th>lag_0</th>\n",
              "      <th>lag_1</th>\n",
              "      <th>lag_2</th>\n",
              "      <th>lag_3</th>\n",
              "      <th>lag_4</th>\n",
              "      <th>lag_5</th>\n",
              "      <th>lag_6</th>\n",
              "      <th>lag_7</th>\n",
              "      <th>lag_8</th>\n",
              "      <th>lag_9</th>\n",
              "      <th>lag_10</th>\n",
              "      <th>lag_11</th>\n",
              "      <th>lag_12</th>\n",
              "      <th>lag_13</th>\n",
              "      <th>lag_14</th>\n",
              "      <th>lag_15</th>\n",
              "      <th>lag_16</th>\n",
              "      <th>lag_17</th>\n",
              "      <th>lag_18</th>\n",
              "      <th>lag_19</th>\n",
              "    </tr>\n",
              "  </thead>\n",
              "  <tbody>\n",
              "    <tr>\n",
              "      <th>0</th>\n",
              "      <td>0.007650</td>\n",
              "      <td>0.013645</td>\n",
              "      <td>0.012840</td>\n",
              "      <td>0.016463</td>\n",
              "      <td>0.013108</td>\n",
              "      <td>0.013108</td>\n",
              "      <td>0.015971</td>\n",
              "      <td>0.013421</td>\n",
              "      <td>0.015747</td>\n",
              "      <td>0.012169</td>\n",
              "      <td>0.014405</td>\n",
              "      <td>0.010647</td>\n",
              "      <td>0.014360</td>\n",
              "      <td>0.011721</td>\n",
              "      <td>0.018208</td>\n",
              "      <td>0.027021</td>\n",
              "      <td>0.025948</td>\n",
              "      <td>0.024337</td>\n",
              "      <td>0.017984</td>\n",
              "      <td>0.017895</td>\n",
              "    </tr>\n",
              "    <tr>\n",
              "      <th>1</th>\n",
              "      <td>0.013645</td>\n",
              "      <td>0.012840</td>\n",
              "      <td>0.016463</td>\n",
              "      <td>0.013108</td>\n",
              "      <td>0.013108</td>\n",
              "      <td>0.015971</td>\n",
              "      <td>0.013421</td>\n",
              "      <td>0.015747</td>\n",
              "      <td>0.012169</td>\n",
              "      <td>0.014405</td>\n",
              "      <td>0.010647</td>\n",
              "      <td>0.014360</td>\n",
              "      <td>0.011721</td>\n",
              "      <td>0.018208</td>\n",
              "      <td>0.027021</td>\n",
              "      <td>0.025948</td>\n",
              "      <td>0.024337</td>\n",
              "      <td>0.017984</td>\n",
              "      <td>0.017895</td>\n",
              "      <td>0.018298</td>\n",
              "    </tr>\n",
              "    <tr>\n",
              "      <th>2</th>\n",
              "      <td>0.012840</td>\n",
              "      <td>0.016463</td>\n",
              "      <td>0.013108</td>\n",
              "      <td>0.013108</td>\n",
              "      <td>0.015971</td>\n",
              "      <td>0.013421</td>\n",
              "      <td>0.015747</td>\n",
              "      <td>0.012169</td>\n",
              "      <td>0.014405</td>\n",
              "      <td>0.010647</td>\n",
              "      <td>0.014360</td>\n",
              "      <td>0.011721</td>\n",
              "      <td>0.018208</td>\n",
              "      <td>0.027021</td>\n",
              "      <td>0.025948</td>\n",
              "      <td>0.024337</td>\n",
              "      <td>0.017984</td>\n",
              "      <td>0.017895</td>\n",
              "      <td>0.018298</td>\n",
              "      <td>0.018968</td>\n",
              "    </tr>\n",
              "    <tr>\n",
              "      <th>3</th>\n",
              "      <td>0.016463</td>\n",
              "      <td>0.013108</td>\n",
              "      <td>0.013108</td>\n",
              "      <td>0.015971</td>\n",
              "      <td>0.013421</td>\n",
              "      <td>0.015747</td>\n",
              "      <td>0.012169</td>\n",
              "      <td>0.014405</td>\n",
              "      <td>0.010647</td>\n",
              "      <td>0.014360</td>\n",
              "      <td>0.011721</td>\n",
              "      <td>0.018208</td>\n",
              "      <td>0.027021</td>\n",
              "      <td>0.025948</td>\n",
              "      <td>0.024337</td>\n",
              "      <td>0.017984</td>\n",
              "      <td>0.017895</td>\n",
              "      <td>0.018298</td>\n",
              "      <td>0.018968</td>\n",
              "      <td>0.025992</td>\n",
              "    </tr>\n",
              "    <tr>\n",
              "      <th>4</th>\n",
              "      <td>0.013108</td>\n",
              "      <td>0.013108</td>\n",
              "      <td>0.015971</td>\n",
              "      <td>0.013421</td>\n",
              "      <td>0.015747</td>\n",
              "      <td>0.012169</td>\n",
              "      <td>0.014405</td>\n",
              "      <td>0.010647</td>\n",
              "      <td>0.014360</td>\n",
              "      <td>0.011721</td>\n",
              "      <td>0.018208</td>\n",
              "      <td>0.027021</td>\n",
              "      <td>0.025948</td>\n",
              "      <td>0.024337</td>\n",
              "      <td>0.017984</td>\n",
              "      <td>0.017895</td>\n",
              "      <td>0.018298</td>\n",
              "      <td>0.018968</td>\n",
              "      <td>0.025992</td>\n",
              "      <td>0.024158</td>\n",
              "    </tr>\n",
              "  </tbody>\n",
              "</table>\n",
              "</div>"
            ],
            "text/plain": [
              "      lag_0     lag_1     lag_2  ...    lag_17    lag_18    lag_19\n",
              "0  0.007650  0.013645  0.012840  ...  0.024337  0.017984  0.017895\n",
              "1  0.013645  0.012840  0.016463  ...  0.017984  0.017895  0.018298\n",
              "2  0.012840  0.016463  0.013108  ...  0.017895  0.018298  0.018968\n",
              "3  0.016463  0.013108  0.013108  ...  0.018298  0.018968  0.025992\n",
              "4  0.013108  0.013108  0.015971  ...  0.018968  0.025992  0.024158\n",
              "\n",
              "[5 rows x 20 columns]"
            ]
          },
          "metadata": {},
          "execution_count": 8
        }
      ]
    },
    {
      "cell_type": "code",
      "metadata": {
        "id": "al61Kt3Oh_LG",
        "colab": {
          "base_uri": "https://localhost:8080/",
          "height": 226
        },
        "outputId": "fa26ad89-e885-49d4-b4e6-e2f325e2e39e"
      },
      "source": [
        "df.tail()"
      ],
      "execution_count": 9,
      "outputs": [
        {
          "output_type": "execute_result",
          "data": {
            "text/html": [
              "<div>\n",
              "<style scoped>\n",
              "    .dataframe tbody tr th:only-of-type {\n",
              "        vertical-align: middle;\n",
              "    }\n",
              "\n",
              "    .dataframe tbody tr th {\n",
              "        vertical-align: top;\n",
              "    }\n",
              "\n",
              "    .dataframe thead th {\n",
              "        text-align: right;\n",
              "    }\n",
              "</style>\n",
              "<table border=\"1\" class=\"dataframe\">\n",
              "  <thead>\n",
              "    <tr style=\"text-align: right;\">\n",
              "      <th></th>\n",
              "      <th>lag_0</th>\n",
              "      <th>lag_1</th>\n",
              "      <th>lag_2</th>\n",
              "      <th>lag_3</th>\n",
              "      <th>lag_4</th>\n",
              "      <th>lag_5</th>\n",
              "      <th>lag_6</th>\n",
              "      <th>lag_7</th>\n",
              "      <th>lag_8</th>\n",
              "      <th>lag_9</th>\n",
              "      <th>lag_10</th>\n",
              "      <th>lag_11</th>\n",
              "      <th>lag_12</th>\n",
              "      <th>lag_13</th>\n",
              "      <th>lag_14</th>\n",
              "      <th>lag_15</th>\n",
              "      <th>lag_16</th>\n",
              "      <th>lag_17</th>\n",
              "      <th>lag_18</th>\n",
              "      <th>lag_19</th>\n",
              "    </tr>\n",
              "  </thead>\n",
              "  <tbody>\n",
              "    <tr>\n",
              "      <th>246</th>\n",
              "      <td>0.219956</td>\n",
              "      <td>0.218496</td>\n",
              "      <td>0.219089</td>\n",
              "      <td>0.221597</td>\n",
              "      <td>0.216992</td>\n",
              "      <td>NaN</td>\n",
              "      <td>NaN</td>\n",
              "      <td>NaN</td>\n",
              "      <td>NaN</td>\n",
              "      <td>NaN</td>\n",
              "      <td>NaN</td>\n",
              "      <td>NaN</td>\n",
              "      <td>NaN</td>\n",
              "      <td>NaN</td>\n",
              "      <td>NaN</td>\n",
              "      <td>NaN</td>\n",
              "      <td>NaN</td>\n",
              "      <td>NaN</td>\n",
              "      <td>NaN</td>\n",
              "      <td>NaN</td>\n",
              "    </tr>\n",
              "    <tr>\n",
              "      <th>247</th>\n",
              "      <td>0.218496</td>\n",
              "      <td>0.219089</td>\n",
              "      <td>0.221597</td>\n",
              "      <td>0.216992</td>\n",
              "      <td>NaN</td>\n",
              "      <td>NaN</td>\n",
              "      <td>NaN</td>\n",
              "      <td>NaN</td>\n",
              "      <td>NaN</td>\n",
              "      <td>NaN</td>\n",
              "      <td>NaN</td>\n",
              "      <td>NaN</td>\n",
              "      <td>NaN</td>\n",
              "      <td>NaN</td>\n",
              "      <td>NaN</td>\n",
              "      <td>NaN</td>\n",
              "      <td>NaN</td>\n",
              "      <td>NaN</td>\n",
              "      <td>NaN</td>\n",
              "      <td>NaN</td>\n",
              "    </tr>\n",
              "    <tr>\n",
              "      <th>248</th>\n",
              "      <td>0.219089</td>\n",
              "      <td>0.221597</td>\n",
              "      <td>0.216992</td>\n",
              "      <td>NaN</td>\n",
              "      <td>NaN</td>\n",
              "      <td>NaN</td>\n",
              "      <td>NaN</td>\n",
              "      <td>NaN</td>\n",
              "      <td>NaN</td>\n",
              "      <td>NaN</td>\n",
              "      <td>NaN</td>\n",
              "      <td>NaN</td>\n",
              "      <td>NaN</td>\n",
              "      <td>NaN</td>\n",
              "      <td>NaN</td>\n",
              "      <td>NaN</td>\n",
              "      <td>NaN</td>\n",
              "      <td>NaN</td>\n",
              "      <td>NaN</td>\n",
              "      <td>NaN</td>\n",
              "    </tr>\n",
              "    <tr>\n",
              "      <th>249</th>\n",
              "      <td>0.221597</td>\n",
              "      <td>0.216992</td>\n",
              "      <td>NaN</td>\n",
              "      <td>NaN</td>\n",
              "      <td>NaN</td>\n",
              "      <td>NaN</td>\n",
              "      <td>NaN</td>\n",
              "      <td>NaN</td>\n",
              "      <td>NaN</td>\n",
              "      <td>NaN</td>\n",
              "      <td>NaN</td>\n",
              "      <td>NaN</td>\n",
              "      <td>NaN</td>\n",
              "      <td>NaN</td>\n",
              "      <td>NaN</td>\n",
              "      <td>NaN</td>\n",
              "      <td>NaN</td>\n",
              "      <td>NaN</td>\n",
              "      <td>NaN</td>\n",
              "      <td>NaN</td>\n",
              "    </tr>\n",
              "    <tr>\n",
              "      <th>250</th>\n",
              "      <td>0.216992</td>\n",
              "      <td>NaN</td>\n",
              "      <td>NaN</td>\n",
              "      <td>NaN</td>\n",
              "      <td>NaN</td>\n",
              "      <td>NaN</td>\n",
              "      <td>NaN</td>\n",
              "      <td>NaN</td>\n",
              "      <td>NaN</td>\n",
              "      <td>NaN</td>\n",
              "      <td>NaN</td>\n",
              "      <td>NaN</td>\n",
              "      <td>NaN</td>\n",
              "      <td>NaN</td>\n",
              "      <td>NaN</td>\n",
              "      <td>NaN</td>\n",
              "      <td>NaN</td>\n",
              "      <td>NaN</td>\n",
              "      <td>NaN</td>\n",
              "      <td>NaN</td>\n",
              "    </tr>\n",
              "  </tbody>\n",
              "</table>\n",
              "</div>"
            ],
            "text/plain": [
              "        lag_0     lag_1     lag_2     lag_3  ...  lag_16  lag_17  lag_18  lag_19\n",
              "246  0.219956  0.218496  0.219089  0.221597  ...     NaN     NaN     NaN     NaN\n",
              "247  0.218496  0.219089  0.221597  0.216992  ...     NaN     NaN     NaN     NaN\n",
              "248  0.219089  0.221597  0.216992       NaN  ...     NaN     NaN     NaN     NaN\n",
              "249  0.221597  0.216992       NaN       NaN  ...     NaN     NaN     NaN     NaN\n",
              "250  0.216992       NaN       NaN       NaN  ...     NaN     NaN     NaN     NaN\n",
              "\n",
              "[5 rows x 20 columns]"
            ]
          },
          "metadata": {},
          "execution_count": 9
        }
      ]
    },
    {
      "cell_type": "code",
      "metadata": {
        "id": "_IgFzvDah_LG"
      },
      "source": [
        "df = df.dropna()"
      ],
      "execution_count": 10,
      "outputs": []
    },
    {
      "cell_type": "code",
      "metadata": {
        "id": "PXa15Tyzh_LH",
        "colab": {
          "base_uri": "https://localhost:8080/",
          "height": 226
        },
        "outputId": "cdfa7941-28d6-4e41-fd2b-fda5fc9a0c62"
      },
      "source": [
        "df.tail()"
      ],
      "execution_count": 11,
      "outputs": [
        {
          "output_type": "execute_result",
          "data": {
            "text/html": [
              "<div>\n",
              "<style scoped>\n",
              "    .dataframe tbody tr th:only-of-type {\n",
              "        vertical-align: middle;\n",
              "    }\n",
              "\n",
              "    .dataframe tbody tr th {\n",
              "        vertical-align: top;\n",
              "    }\n",
              "\n",
              "    .dataframe thead th {\n",
              "        text-align: right;\n",
              "    }\n",
              "</style>\n",
              "<table border=\"1\" class=\"dataframe\">\n",
              "  <thead>\n",
              "    <tr style=\"text-align: right;\">\n",
              "      <th></th>\n",
              "      <th>lag_0</th>\n",
              "      <th>lag_1</th>\n",
              "      <th>lag_2</th>\n",
              "      <th>lag_3</th>\n",
              "      <th>lag_4</th>\n",
              "      <th>lag_5</th>\n",
              "      <th>lag_6</th>\n",
              "      <th>lag_7</th>\n",
              "      <th>lag_8</th>\n",
              "      <th>lag_9</th>\n",
              "      <th>lag_10</th>\n",
              "      <th>lag_11</th>\n",
              "      <th>lag_12</th>\n",
              "      <th>lag_13</th>\n",
              "      <th>lag_14</th>\n",
              "      <th>lag_15</th>\n",
              "      <th>lag_16</th>\n",
              "      <th>lag_17</th>\n",
              "      <th>lag_18</th>\n",
              "      <th>lag_19</th>\n",
              "    </tr>\n",
              "  </thead>\n",
              "  <tbody>\n",
              "    <tr>\n",
              "      <th>227</th>\n",
              "      <td>0.180781</td>\n",
              "      <td>0.192760</td>\n",
              "      <td>0.192034</td>\n",
              "      <td>0.202470</td>\n",
              "      <td>0.199974</td>\n",
              "      <td>0.198522</td>\n",
              "      <td>0.194212</td>\n",
              "      <td>0.194438</td>\n",
              "      <td>0.198204</td>\n",
              "      <td>0.204738</td>\n",
              "      <td>0.208368</td>\n",
              "      <td>0.210501</td>\n",
              "      <td>0.210365</td>\n",
              "      <td>0.205419</td>\n",
              "      <td>0.215395</td>\n",
              "      <td>0.223103</td>\n",
              "      <td>0.218405</td>\n",
              "      <td>0.217767</td>\n",
              "      <td>0.220275</td>\n",
              "      <td>0.219956</td>\n",
              "    </tr>\n",
              "    <tr>\n",
              "      <th>228</th>\n",
              "      <td>0.192760</td>\n",
              "      <td>0.192034</td>\n",
              "      <td>0.202470</td>\n",
              "      <td>0.199974</td>\n",
              "      <td>0.198522</td>\n",
              "      <td>0.194212</td>\n",
              "      <td>0.194438</td>\n",
              "      <td>0.198204</td>\n",
              "      <td>0.204738</td>\n",
              "      <td>0.208368</td>\n",
              "      <td>0.210501</td>\n",
              "      <td>0.210365</td>\n",
              "      <td>0.205419</td>\n",
              "      <td>0.215395</td>\n",
              "      <td>0.223103</td>\n",
              "      <td>0.218405</td>\n",
              "      <td>0.217767</td>\n",
              "      <td>0.220275</td>\n",
              "      <td>0.219956</td>\n",
              "      <td>0.218496</td>\n",
              "    </tr>\n",
              "    <tr>\n",
              "      <th>229</th>\n",
              "      <td>0.192034</td>\n",
              "      <td>0.202470</td>\n",
              "      <td>0.199974</td>\n",
              "      <td>0.198522</td>\n",
              "      <td>0.194212</td>\n",
              "      <td>0.194438</td>\n",
              "      <td>0.198204</td>\n",
              "      <td>0.204738</td>\n",
              "      <td>0.208368</td>\n",
              "      <td>0.210501</td>\n",
              "      <td>0.210365</td>\n",
              "      <td>0.205419</td>\n",
              "      <td>0.215395</td>\n",
              "      <td>0.223103</td>\n",
              "      <td>0.218405</td>\n",
              "      <td>0.217767</td>\n",
              "      <td>0.220275</td>\n",
              "      <td>0.219956</td>\n",
              "      <td>0.218496</td>\n",
              "      <td>0.219089</td>\n",
              "    </tr>\n",
              "    <tr>\n",
              "      <th>230</th>\n",
              "      <td>0.202470</td>\n",
              "      <td>0.199974</td>\n",
              "      <td>0.198522</td>\n",
              "      <td>0.194212</td>\n",
              "      <td>0.194438</td>\n",
              "      <td>0.198204</td>\n",
              "      <td>0.204738</td>\n",
              "      <td>0.208368</td>\n",
              "      <td>0.210501</td>\n",
              "      <td>0.210365</td>\n",
              "      <td>0.205419</td>\n",
              "      <td>0.215395</td>\n",
              "      <td>0.223103</td>\n",
              "      <td>0.218405</td>\n",
              "      <td>0.217767</td>\n",
              "      <td>0.220275</td>\n",
              "      <td>0.219956</td>\n",
              "      <td>0.218496</td>\n",
              "      <td>0.219089</td>\n",
              "      <td>0.221597</td>\n",
              "    </tr>\n",
              "    <tr>\n",
              "      <th>231</th>\n",
              "      <td>0.199974</td>\n",
              "      <td>0.198522</td>\n",
              "      <td>0.194212</td>\n",
              "      <td>0.194438</td>\n",
              "      <td>0.198204</td>\n",
              "      <td>0.204738</td>\n",
              "      <td>0.208368</td>\n",
              "      <td>0.210501</td>\n",
              "      <td>0.210365</td>\n",
              "      <td>0.205419</td>\n",
              "      <td>0.215395</td>\n",
              "      <td>0.223103</td>\n",
              "      <td>0.218405</td>\n",
              "      <td>0.217767</td>\n",
              "      <td>0.220275</td>\n",
              "      <td>0.219956</td>\n",
              "      <td>0.218496</td>\n",
              "      <td>0.219089</td>\n",
              "      <td>0.221597</td>\n",
              "      <td>0.216992</td>\n",
              "    </tr>\n",
              "  </tbody>\n",
              "</table>\n",
              "</div>"
            ],
            "text/plain": [
              "        lag_0     lag_1     lag_2  ...    lag_17    lag_18    lag_19\n",
              "227  0.180781  0.192760  0.192034  ...  0.217767  0.220275  0.219956\n",
              "228  0.192760  0.192034  0.202470  ...  0.220275  0.219956  0.218496\n",
              "229  0.192034  0.202470  0.199974  ...  0.219956  0.218496  0.219089\n",
              "230  0.202470  0.199974  0.198522  ...  0.218496  0.219089  0.221597\n",
              "231  0.199974  0.198522  0.194212  ...  0.219089  0.221597  0.216992\n",
              "\n",
              "[5 rows x 20 columns]"
            ]
          },
          "metadata": {},
          "execution_count": 11
        }
      ]
    },
    {
      "cell_type": "code",
      "metadata": {
        "id": "nnbZtts-h_LH"
      },
      "source": [
        "dataset = df.to_numpy()"
      ],
      "execution_count": 14,
      "outputs": []
    },
    {
      "cell_type": "code",
      "metadata": {
        "id": "vxvbjF5Kh_LH",
        "colab": {
          "base_uri": "https://localhost:8080/"
        },
        "outputId": "19756bb7-dd37-4ec4-de05-ff177bddc9d2"
      },
      "source": [
        "dataset.shape"
      ],
      "execution_count": 15,
      "outputs": [
        {
          "output_type": "execute_result",
          "data": {
            "text/plain": [
              "(232, 20)"
            ]
          },
          "metadata": {},
          "execution_count": 15
        }
      ]
    },
    {
      "cell_type": "code",
      "metadata": {
        "id": "QGCRrwOIh_LH"
      },
      "source": [
        "X = dataset[:, 0:15]\n",
        "y = dataset[:, 15:20]"
      ],
      "execution_count": 16,
      "outputs": []
    },
    {
      "cell_type": "code",
      "metadata": {
        "id": "zY2fFxulh_LI",
        "colab": {
          "base_uri": "https://localhost:8080/"
        },
        "outputId": "673a5970-1c16-4d31-b832-431692f4e147"
      },
      "source": [
        "X.shape"
      ],
      "execution_count": 17,
      "outputs": [
        {
          "output_type": "execute_result",
          "data": {
            "text/plain": [
              "(232, 15)"
            ]
          },
          "metadata": {},
          "execution_count": 17
        }
      ]
    },
    {
      "cell_type": "code",
      "metadata": {
        "id": "0h_rJAwZh_LI",
        "colab": {
          "base_uri": "https://localhost:8080/"
        },
        "outputId": "b9724f9b-283e-43a6-c4e1-24dd2c0a6b63"
      },
      "source": [
        "y.shape"
      ],
      "execution_count": 18,
      "outputs": [
        {
          "output_type": "execute_result",
          "data": {
            "text/plain": [
              "(232, 5)"
            ]
          },
          "metadata": {},
          "execution_count": 18
        }
      ]
    },
    {
      "cell_type": "code",
      "metadata": {
        "id": "SSjux1OSh_LR"
      },
      "source": [
        "from sklearn.svm import SVR\n",
        "from sklearn.multioutput import MultiOutputRegressor\n",
        "from sklearn.model_selection import TimeSeriesSplit\n",
        "from sklearn.model_selection import GridSearchCV"
      ],
      "execution_count": 19,
      "outputs": []
    },
    {
      "cell_type": "code",
      "metadata": {
        "id": "xFHbbx74h_LR"
      },
      "source": [
        "estimator = MultiOutputRegressor(SVR(gamma='scale'))"
      ],
      "execution_count": null,
      "outputs": []
    },
    {
      "cell_type": "code",
      "metadata": {
        "id": "P6pn1BNNh_LR",
        "outputId": "99fba693-9678-4bd5-e7c7-2a65dde77e2c"
      },
      "source": [
        "estimator.get_params().keys()"
      ],
      "execution_count": null,
      "outputs": [
        {
          "data": {
            "text/plain": [
              "dict_keys(['estimator__C', 'estimator__cache_size', 'estimator__coef0', 'estimator__degree', 'estimator__epsilon', 'estimator__gamma', 'estimator__kernel', 'estimator__max_iter', 'estimator__shrinking', 'estimator__tol', 'estimator__verbose', 'estimator', 'n_jobs'])"
            ]
          },
          "execution_count": 39,
          "metadata": {},
          "output_type": "execute_result"
        }
      ]
    },
    {
      "cell_type": "code",
      "metadata": {
        "id": "bB8UBBWyh_LR"
      },
      "source": [
        "parameters = {\n",
        "    'estimator__kernel': ('linear', 'poly', 'rbf'),\n",
        "    'estimator__C': [1, 10]\n",
        "}"
      ],
      "execution_count": null,
      "outputs": []
    },
    {
      "cell_type": "code",
      "metadata": {
        "id": "avxrY0Czh_LS"
      },
      "source": [
        "cv = TimeSeriesSplit(n_splits=5)\n",
        "clf = GridSearchCV(estimator, parameters, cv=cv)"
      ],
      "execution_count": null,
      "outputs": []
    },
    {
      "cell_type": "code",
      "metadata": {
        "id": "44NJujxFh_LS",
        "outputId": "a3ecab97-6f62-4ad5-e76c-1dcdbad3bd56"
      },
      "source": [
        "clf.fit(X, y)"
      ],
      "execution_count": null,
      "outputs": [
        {
          "data": {
            "text/plain": [
              "GridSearchCV(cv=TimeSeriesSplit(max_train_size=None, n_splits=5),\n",
              "       error_score='raise-deprecating',\n",
              "       estimator=MultiOutputRegressor(estimator=SVR(C=1.0, cache_size=200, coef0=0.0, degree=3, epsilon=0.1, gamma='scale',\n",
              "  kernel='rbf', max_iter=-1, shrinking=True, tol=0.001, verbose=False),\n",
              "           n_jobs=None),\n",
              "       fit_params=None, iid='warn', n_jobs=None,\n",
              "       param_grid={'estimator__kernel': ('linear', 'poly', 'rbf'), 'estimator__C': [1, 10]},\n",
              "       pre_dispatch='2*n_jobs', refit=True, return_train_score='warn',\n",
              "       scoring=None, verbose=0)"
            ]
          },
          "execution_count": 45,
          "metadata": {},
          "output_type": "execute_result"
        }
      ]
    },
    {
      "cell_type": "code",
      "metadata": {
        "id": "VH3w8V9gh_LS",
        "outputId": "e70d0a7d-7c5c-415c-f41c-5ca6a5b5f8e0"
      },
      "source": [
        "clf.cv_results_"
      ],
      "execution_count": null,
      "outputs": [
        {
          "name": "stderr",
          "output_type": "stream",
          "text": [
            "/usr/local/lib/python3.6/dist-packages/sklearn/utils/deprecation.py:125: FutureWarning: You are accessing a training score ('split0_train_score'), which will not be available by default any more in 0.21. If you need training scores, please set return_train_score=True\n",
            "  warnings.warn(*warn_args, **warn_kwargs)\n",
            "/usr/local/lib/python3.6/dist-packages/sklearn/utils/deprecation.py:125: FutureWarning: You are accessing a training score ('split1_train_score'), which will not be available by default any more in 0.21. If you need training scores, please set return_train_score=True\n",
            "  warnings.warn(*warn_args, **warn_kwargs)\n",
            "/usr/local/lib/python3.6/dist-packages/sklearn/utils/deprecation.py:125: FutureWarning: You are accessing a training score ('split2_train_score'), which will not be available by default any more in 0.21. If you need training scores, please set return_train_score=True\n",
            "  warnings.warn(*warn_args, **warn_kwargs)\n",
            "/usr/local/lib/python3.6/dist-packages/sklearn/utils/deprecation.py:125: FutureWarning: You are accessing a training score ('split3_train_score'), which will not be available by default any more in 0.21. If you need training scores, please set return_train_score=True\n",
            "  warnings.warn(*warn_args, **warn_kwargs)\n",
            "/usr/local/lib/python3.6/dist-packages/sklearn/utils/deprecation.py:125: FutureWarning: You are accessing a training score ('split4_train_score'), which will not be available by default any more in 0.21. If you need training scores, please set return_train_score=True\n",
            "  warnings.warn(*warn_args, **warn_kwargs)\n",
            "/usr/local/lib/python3.6/dist-packages/sklearn/utils/deprecation.py:125: FutureWarning: You are accessing a training score ('mean_train_score'), which will not be available by default any more in 0.21. If you need training scores, please set return_train_score=True\n",
            "  warnings.warn(*warn_args, **warn_kwargs)\n",
            "/usr/local/lib/python3.6/dist-packages/sklearn/utils/deprecation.py:125: FutureWarning: You are accessing a training score ('std_train_score'), which will not be available by default any more in 0.21. If you need training scores, please set return_train_score=True\n",
            "  warnings.warn(*warn_args, **warn_kwargs)\n"
          ]
        },
        {
          "data": {
            "text/plain": [
              "{'mean_fit_time': array([0.00322628, 0.00290589, 0.00281777, 0.00276108, 0.00278578,\n",
              "        0.00280643]),\n",
              " 'std_fit_time': array([5.85497568e-04, 1.18873543e-04, 6.55815971e-05, 8.47839263e-05,\n",
              "        5.30481285e-05, 7.74472213e-05]),\n",
              " 'mean_score_time': array([0.00102067, 0.0009757 , 0.00093422, 0.00093355, 0.00092926,\n",
              "        0.00093307]),\n",
              " 'std_score_time': array([7.54205059e-05, 2.87405068e-05, 7.74563219e-06, 8.75953883e-06,\n",
              "        5.22479507e-06, 1.28742501e-05]),\n",
              " 'param_estimator__C': masked_array(data=[1, 1, 1, 10, 10, 10],\n",
              "              mask=[False, False, False, False, False, False],\n",
              "        fill_value='?',\n",
              "             dtype=object),\n",
              " 'param_estimator__kernel': masked_array(data=['linear', 'poly', 'rbf', 'linear', 'poly', 'rbf'],\n",
              "              mask=[False, False, False, False, False, False],\n",
              "        fill_value='?',\n",
              "             dtype=object),\n",
              " 'params': [{'estimator__C': 1, 'estimator__kernel': 'linear'},\n",
              "  {'estimator__C': 1, 'estimator__kernel': 'poly'},\n",
              "  {'estimator__C': 1, 'estimator__kernel': 'rbf'},\n",
              "  {'estimator__C': 10, 'estimator__kernel': 'linear'},\n",
              "  {'estimator__C': 10, 'estimator__kernel': 'poly'},\n",
              "  {'estimator__C': 10, 'estimator__kernel': 'rbf'}],\n",
              " 'split0_test_score': array([-3.90697157, -3.90697157, -3.90697157, -3.90697157, -3.90697157,\n",
              "        -3.90697157]),\n",
              " 'split1_test_score': array([-45.52873061, -45.52873061, -45.52873061, -45.52873061,\n",
              "        -45.52873061, -45.52873061]),\n",
              " 'split2_test_score': array([-49.24029997, -49.24029997, -49.24029997, -49.24029997,\n",
              "        -49.24029997, -49.24029997]),\n",
              " 'split3_test_score': array([-29.2245234, -29.2245234, -29.2245234, -29.2245234, -29.2245234,\n",
              "        -29.2245234]),\n",
              " 'split4_test_score': array([-27.12117704, -27.12117704, -27.12117704, -27.12117704,\n",
              "        -27.12117704, -27.12117704]),\n",
              " 'mean_test_score': array([-31.00434052, -31.00434052, -31.00434052, -31.00434052,\n",
              "        -31.00434052, -31.00434052]),\n",
              " 'std_test_score': array([16.09982755, 16.09982755, 16.09982755, 16.09982755, 16.09982755,\n",
              "        16.09982755]),\n",
              " 'rank_test_score': array([1, 1, 1, 1, 1, 1], dtype=int32),\n",
              " 'split0_train_score': array([-0.06813468, -0.06813468, -0.06813468, -0.06813468, -0.06813468,\n",
              "        -0.06813468]),\n",
              " 'split1_train_score': array([-0.24892173, -0.24892173, -0.24892173, -0.24892173, -0.24892173,\n",
              "        -0.24892173]),\n",
              " 'split2_train_score': array([-0.05711495, -0.05711495, -0.05711495, -0.05711495, -0.05711495,\n",
              "        -0.05711495]),\n",
              " 'split3_train_score': array([-0.11721449, -0.11721449, -0.11721449, -0.11721449, -0.11721449,\n",
              "        -0.11721449]),\n",
              " 'split4_train_score': array([-0.00164507, -0.00164507, -0.00164507, -0.00164507, -0.00164507,\n",
              "        -0.00164507]),\n",
              " 'mean_train_score': array([-0.09860619, -0.09860619, -0.09860619, -0.09860619, -0.09860619,\n",
              "        -0.09860619]),\n",
              " 'std_train_score': array([0.08365707, 0.08365707, 0.08365707, 0.08365707, 0.08365707,\n",
              "        0.08365707])}"
            ]
          },
          "execution_count": 46,
          "metadata": {},
          "output_type": "execute_result"
        }
      ]
    },
    {
      "cell_type": "code",
      "metadata": {
        "id": "ds8cQS3Qh_LS",
        "outputId": "e35e3af2-bf31-421b-900d-394ce3de4379"
      },
      "source": [
        "clf.best_estimator_"
      ],
      "execution_count": null,
      "outputs": [
        {
          "data": {
            "text/plain": [
              "MultiOutputRegressor(estimator=SVR(C=1, cache_size=200, coef0=0.0, degree=3, epsilon=0.1, gamma='scale',\n",
              "  kernel='linear', max_iter=-1, shrinking=True, tol=0.001, verbose=False),\n",
              "           n_jobs=None)"
            ]
          },
          "execution_count": 47,
          "metadata": {},
          "output_type": "execute_result"
        }
      ]
    },
    {
      "cell_type": "code",
      "metadata": {
        "id": "v4_5DUL3h_LS",
        "outputId": "4a74cd61-b1ac-4402-ff21-2bb185fe74d5"
      },
      "source": [
        "clf.best_params_"
      ],
      "execution_count": null,
      "outputs": [
        {
          "data": {
            "text/plain": [
              "{'estimator__C': 1, 'estimator__kernel': 'linear'}"
            ]
          },
          "execution_count": 48,
          "metadata": {},
          "output_type": "execute_result"
        }
      ]
    },
    {
      "cell_type": "code",
      "metadata": {
        "id": "KHI8ervah_LT",
        "outputId": "7ee11d59-0521-4231-94ff-dd9680e3b45e"
      },
      "source": [
        "clf.best_score_"
      ],
      "execution_count": null,
      "outputs": [
        {
          "data": {
            "text/plain": [
              "-31.00434051799314"
            ]
          },
          "execution_count": 49,
          "metadata": {},
          "output_type": "execute_result"
        }
      ]
    },
    {
      "cell_type": "code",
      "metadata": {
        "id": "bWUAcJGfh_LT"
      },
      "source": [
        "import joblib"
      ],
      "execution_count": null,
      "outputs": []
    },
    {
      "cell_type": "code",
      "metadata": {
        "id": "AN5hH_2vh_LT",
        "outputId": "f33c05d6-1c9d-4dce-bc09-76edbece2b0a"
      },
      "source": [
        "joblib.dump(clf.best_estimator_, 'estimator.joblib')"
      ],
      "execution_count": null,
      "outputs": [
        {
          "data": {
            "text/plain": [
              "['estimator.joblib']"
            ]
          },
          "execution_count": 52,
          "metadata": {},
          "output_type": "execute_result"
        }
      ]
    },
    {
      "cell_type": "code",
      "metadata": {
        "id": "cXSa41Toh_LT"
      },
      "source": [
        ""
      ],
      "execution_count": null,
      "outputs": []
    }
  ]
}